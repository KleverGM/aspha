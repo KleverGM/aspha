{
  "nbformat": 4,
  "nbformat_minor": 0,
  "metadata": {
    "colab": {
      "provenance": [],
      "authorship_tag": "ABX9TyMPQJR00BNgc5XwOhZXolWR",
      "include_colab_link": true
    },
    "kernelspec": {
      "name": "python3",
      "display_name": "Python 3"
    },
    "language_info": {
      "name": "python"
    }
  },
  "cells": [
    {
      "cell_type": "markdown",
      "metadata": {
        "id": "view-in-github",
        "colab_type": "text"
      },
      "source": [
        "<a href=\"https://colab.research.google.com/github/KleverGM/aspha/blob/main/B_T2_Klever_Mu%C3%B1oz.ipynb\" target=\"_parent\"><img src=\"https://colab.research.google.com/assets/colab-badge.svg\" alt=\"Open In Colab\"/></a>"
      ]
    },
    {
      "cell_type": "code",
      "execution_count": 1,
      "metadata": {
        "colab": {
          "base_uri": "https://localhost:8080/"
        },
        "id": "xR8kxImjhdUM",
        "outputId": "4822dc18-e88c-4614-da04-96da51c8e1e3"
      },
      "outputs": [
        {
          "output_type": "stream",
          "name": "stdout",
          "text": [
            "Hola Mundo\n"
          ]
        }
      ],
      "source": [
        "texto = \"Hola Mundo\" # Se usa una variable en donde se escribe la palabra o frase que quiere qeu se muestre\n",
        "print(texto)"
      ]
    },
    {
      "cell_type": "code",
      "source": [
        "num1 = int(input(\"Ingrese un numero \"))\n",
        "num2= int(input(\"Ingrese otro numero \"))\n",
        "suma = num1 + num2\n",
        "print(\"La suma es\",suma)"
      ],
      "metadata": {
        "colab": {
          "base_uri": "https://localhost:8080/"
        },
        "id": "uHW5_JMuiJZg",
        "outputId": "616ce90c-b323-418c-ffae-264b7d2966db"
      },
      "execution_count": 3,
      "outputs": [
        {
          "output_type": "stream",
          "name": "stdout",
          "text": [
            "Ingrese un numero 2\n",
            "Ingrese otro numero 3\n",
            "La suma es 5\n"
          ]
        }
      ]
    },
    {
      "cell_type": "code",
      "source": [
        "num = int(input(\"Ingrese un numero: \"))\n",
        "if num % 2 == 0:\n",
        "    print(\"El numero es par\")\n",
        "else:\n",
        "    num % 2 ==0\n",
        "    print(\"El numero es impar\")\n"
      ],
      "metadata": {
        "colab": {
          "base_uri": "https://localhost:8080/"
        },
        "id": "xSUwOa3HjJfL",
        "outputId": "8ff72a63-822c-4b77-ceb5-ebcb5ee81c1d"
      },
      "execution_count": 5,
      "outputs": [
        {
          "output_type": "stream",
          "name": "stdout",
          "text": [
            "Ingrese un numero: 2\n",
            "El numero es par\n"
          ]
        }
      ]
    },
    {
      "cell_type": "code",
      "source": [
        "num1 = float(input(\"Ingrese un numero \"))\n",
        "num2= float(input(\"Ingrese otro numero \"))\n",
        "suma = num1 + num2\n",
        "print(\"La suma es: \", suma)\n",
        "resta = num1 - num2\n",
        "print(\"La resta es: \", resta)\n",
        "nultiplicacion = num1 * num2\n",
        "print(\"La multiplicación es: \", nultiplicacion)\n",
        "division = num1 / num2\n",
        "print(\"La división es: \", division)\n"
      ],
      "metadata": {
        "id": "UvQtnldVpehX"
      },
      "execution_count": null,
      "outputs": []
    },
    {
      "cell_type": "code",
      "source": [
        "num1 = int(input(\"Ingrese un primer numero \"))\n",
        "num2 = int(input(\"Ingrese un segundo numero \"))\n",
        "num3 = int(input(\"Ingrese un tercer numero \"))\n",
        "mayor = max(num1,num2,num3)\n",
        "print(\"El numero mayor es: \",mayor)"
      ],
      "metadata": {
        "colab": {
          "base_uri": "https://localhost:8080/"
        },
        "id": "edxUbIdVkbcO",
        "outputId": "8c77c507-6fdc-4ace-84d5-e2eb32af6e3f"
      },
      "execution_count": 6,
      "outputs": [
        {
          "output_type": "stream",
          "name": "stdout",
          "text": [
            "Ingrese un primer numero 10\n",
            "Ingrese un segundo numero 4\n",
            "Ingrese un tercer numero 2\n",
            "El numero mayor es:  10\n"
          ]
        }
      ]
    },
    {
      "cell_type": "code",
      "source": [
        "import math\n",
        "def calcular_area_circulo(radio):\n",
        "    area = round(math.pi * radio ** 2, 3)\n",
        "    return area\n",
        "radio = float(input(\"Ingrese el radio de la circunferencia \"))\n",
        "print(f\"El area de la circunferencia es: {calcular_area_circulo(radio)}\")"
      ],
      "metadata": {
        "id": "N_2Uw9ogpuOR"
      },
      "execution_count": null,
      "outputs": []
    }
  ]
}