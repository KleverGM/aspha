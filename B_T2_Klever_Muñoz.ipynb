{
  "nbformat": 4,
  "nbformat_minor": 0,
  "metadata": {
    "colab": {
      "provenance": [],
      "authorship_tag": "ABX9TyOLdB8HkSgjc94+bI/eEmI+",
      "include_colab_link": true
    },
    "kernelspec": {
      "name": "python3",
      "display_name": "Python 3"
    },
    "language_info": {
      "name": "python"
    }
  },
  "cells": [
    {
      "cell_type": "markdown",
      "metadata": {
        "id": "view-in-github",
        "colab_type": "text"
      },
      "source": [
        "<a href=\"https://colab.research.google.com/github/KleverGM/aspha/blob/main/B_T2_Klever_Mu%C3%B1oz.ipynb\" target=\"_parent\"><img src=\"https://colab.research.google.com/assets/colab-badge.svg\" alt=\"Open In Colab\"/></a>"
      ]
    },
    {
      "cell_type": "code",
      "execution_count": null,
      "metadata": {
        "colab": {
          "base_uri": "https://localhost:8080/"
        },
        "id": "xR8kxImjhdUM",
        "outputId": "4822dc18-e88c-4614-da04-96da51c8e1e3"
      },
      "outputs": [
        {
          "output_type": "stream",
          "name": "stdout",
          "text": [
            "Hola Mundo\n"
          ]
        }
      ],
      "source": [
        "texto = \"Hola Mundo\" # Se usa una variable en donde se escribe la palabra o frase que quiere qeu se muestre\n",
        "print(texto)"
      ]
    },
    {
      "cell_type": "code",
      "source": [
        "num1 = int(input(\"Ingrese un numero \"))\n",
        "num2= int(input(\"Ingrese otro numero \"))\n",
        "suma = num1 + num2\n",
        "print(\"La suma es\",suma)"
      ],
      "metadata": {
        "colab": {
          "base_uri": "https://localhost:8080/"
        },
        "id": "uHW5_JMuiJZg",
        "outputId": "616ce90c-b323-418c-ffae-264b7d2966db"
      },
      "execution_count": null,
      "outputs": [
        {
          "output_type": "stream",
          "name": "stdout",
          "text": [
            "Ingrese un numero 2\n",
            "Ingrese otro numero 3\n",
            "La suma es 5\n"
          ]
        }
      ]
    },
    {
      "cell_type": "code",
      "source": [
        "num = int(input(\"Ingrese un numero: \"))\n",
        "if num % 2 == 0:\n",
        "    print(\"El numero es par\")\n",
        "else:\n",
        "    num % 2 ==0\n",
        "    print(\"El numero es impar\")\n"
      ],
      "metadata": {
        "colab": {
          "base_uri": "https://localhost:8080/"
        },
        "id": "xSUwOa3HjJfL",
        "outputId": "8ff72a63-822c-4b77-ceb5-ebcb5ee81c1d"
      },
      "execution_count": null,
      "outputs": [
        {
          "output_type": "stream",
          "name": "stdout",
          "text": [
            "Ingrese un numero: 2\n",
            "El numero es par\n"
          ]
        }
      ]
    },
    {
      "cell_type": "code",
      "source": [
        "num1 = float(input(\"Ingrese un numero \"))\n",
        "num2= float(input(\"Ingrese otro numero \"))\n",
        "suma = num1 + num2\n",
        "print(\"La suma es: \", suma)\n",
        "resta = num1 - num2\n",
        "print(\"La resta es: \", resta)\n",
        "nultiplicacion = num1 * num2\n",
        "print(\"La multiplicación es: \", nultiplicacion)\n",
        "division = num1 / num2\n",
        "print(\"La división es: \", division)\n"
      ],
      "metadata": {
        "id": "UvQtnldVpehX"
      },
      "execution_count": null,
      "outputs": []
    },
    {
      "cell_type": "code",
      "source": [
        "num1 = int(input(\"Ingrese un primer numero \"))\n",
        "num2 = int(input(\"Ingrese un segundo numero \"))\n",
        "num3 = int(input(\"Ingrese un tercer numero \"))\n",
        "mayor = max(num1,num2,num3)\n",
        "print(\"El numero mayor es: \",mayor)"
      ],
      "metadata": {
        "colab": {
          "base_uri": "https://localhost:8080/"
        },
        "id": "edxUbIdVkbcO",
        "outputId": "8c77c507-6fdc-4ace-84d5-e2eb32af6e3f"
      },
      "execution_count": null,
      "outputs": [
        {
          "output_type": "stream",
          "name": "stdout",
          "text": [
            "Ingrese un primer numero 10\n",
            "Ingrese un segundo numero 4\n",
            "Ingrese un tercer numero 2\n",
            "El numero mayor es:  10\n"
          ]
        }
      ]
    },
    {
      "cell_type": "code",
      "source": [
        "import math\n",
        "def calcular_area_circulo(radio):\n",
        "    area = round(math.pi * radio ** 2, 3)\n",
        "    return area\n",
        "radio = float(input(\"Ingrese el radio de la circunferencia \"))\n",
        "print(f\"El area de la circunferencia es: {calcular_area_circulo(radio)}\")"
      ],
      "metadata": {
        "id": "N_2Uw9ogpuOR"
      },
      "execution_count": null,
      "outputs": []
    },
    {
      "cell_type": "code",
      "source": [
        "def celsius_a_fahrenheit(celsius):\n",
        "    fahrenheit = (celsius * 9/5) + 32\n",
        "    return fahrenheit\n",
        "temperatura_celsius = float(input(\"Introduce la temperatura en grados Celsius: \"))\n",
        "temperatura_fahrenheit = celsius_a_fahrenheit(temperatura_celsius)\n",
        "print(f\"la temperratura de {temperatura_celsius} grados celsius a grados fahrenheit son {temperatura_fahrenheit} grados Fahrenheit\")"
      ],
      "metadata": {
        "colab": {
          "base_uri": "https://localhost:8080/"
        },
        "id": "hD6CHAc-Msyp",
        "outputId": "efa7d965-25d6-455e-aa60-52537ed37f5e"
      },
      "execution_count": null,
      "outputs": [
        {
          "output_type": "stream",
          "name": "stdout",
          "text": [
            "Introduce la temperatura en grados Celsius: 20\n",
            "la temperratura de 20.0 grados Celsius a grados Fahrenheit son 68.0 grados Fahrenheit\n"
          ]
        }
      ]
    },
    {
      "cell_type": "code",
      "source": [
        "for numero in range(10, -1, -1):\n",
        "    print(numero)"
      ],
      "metadata": {
        "colab": {
          "base_uri": "https://localhost:8080/"
        },
        "id": "RuEJV0n1NK_G",
        "outputId": "febf5c70-f4d5-4a35-8b10-bb1d3b548fd1"
      },
      "execution_count": null,
      "outputs": [
        {
          "output_type": "stream",
          "name": "stdout",
          "text": [
            "10\n",
            "9\n",
            "8\n",
            "7\n",
            "6\n",
            "5\n",
            "4\n",
            "3\n",
            "2\n",
            "1\n",
            "0\n"
          ]
        }
      ]
    },
    {
      "cell_type": "code",
      "source": [
        "numero = int(input(\"Introduzca un numero: \"))\n",
        "print(f\"Tabla de multiplicar del {numero}:\")\n",
        "\n",
        "for i in range(1, 11):\n",
        "    resultado = numero * i\n",
        "    print(f\"{numero} x {i} = {resultado}\")"
      ],
      "metadata": {
        "colab": {
          "base_uri": "https://localhost:8080/"
        },
        "id": "XR18A32QNcPc",
        "outputId": "982b6ac0-1c70-4121-baeb-c4cb2d409fd1"
      },
      "execution_count": null,
      "outputs": [
        {
          "output_type": "stream",
          "name": "stdout",
          "text": [
            "Introduzca un numero: 2\n",
            "Tabla de multiplicar del 2:\n",
            "2 x 1 = 2\n",
            "2 x 2 = 4\n",
            "2 x 3 = 6\n",
            "2 x 4 = 8\n",
            "2 x 5 = 10\n",
            "2 x 6 = 12\n",
            "2 x 7 = 14\n",
            "2 x 8 = 16\n",
            "2 x 9 = 18\n",
            "2 x 10 = 20\n"
          ]
        }
      ]
    },
    {
      "cell_type": "code",
      "source": [
        "numero = int(input(\"Ingrese un numero: \"))\n",
        "es_primo = True\n",
        "if numero <= 1:\n",
        "    es_primo = False\n",
        "else:\n",
        "    for i in range(2, int(numero ** 0.5) + 1):\n",
        "        if numero % i == 0:\n",
        "            es_primo = False\n",
        "            break\n",
        "if es_primo:\n",
        "    print(f\"El número {numero} es primo.\")\n",
        "else:\n",
        "    print(f\"El número {numero} no es primo.\")"
      ],
      "metadata": {
        "colab": {
          "base_uri": "https://localhost:8080/"
        },
        "id": "sz8EN4bDNuZH",
        "outputId": "e5509641-7e77-45b2-aa4d-cb601d359172"
      },
      "execution_count": null,
      "outputs": [
        {
          "output_type": "stream",
          "name": "stdout",
          "text": [
            "Ingrese un numero: 4\n",
            "El número 4 no es primo.\n"
          ]
        }
      ]
    },
    {
      "cell_type": "code",
      "source": [
        "numero = int(input(\"Ingrese el numero limite de la suma: \"))\n",
        "suma_total = 0\n",
        "for i in range(1, numero + 1):\n",
        "    suma_total += i\n",
        "print(f\"La suma de todos los números naturales hasta {numero} es {suma_total}.\")"
      ],
      "metadata": {
        "id": "hP3NPYyMOCyP"
      },
      "execution_count": null,
      "outputs": []
    },
    {
      "cell_type": "code",
      "source": [
        "texto = input(\"Ingrese un texto: \")\n",
        "cadena_invertida = texto[::-1]\n",
        "print(f\"El texto invertido es: {cadena_invertida}\")"
      ],
      "metadata": {
        "colab": {
          "base_uri": "https://localhost:8080/"
        },
        "id": "PVztV_5tOc6j",
        "outputId": "d0acea7a-e9e5-483a-f1af-2ec7c0b4bed1"
      },
      "execution_count": null,
      "outputs": [
        {
          "output_type": "stream",
          "name": "stdout",
          "text": [
            "Ingrese un texto: Hola\n",
            "La cadena invertida es: aloH\n"
          ]
        }
      ]
    },
    {
      "cell_type": "code",
      "source": [
        "texto = input(\"Ingrese un texto: \")\n",
        "vocales = \"aeiouAEIOU\"\n",
        "contador = 0\n",
        "for caracter in texto:\n",
        "    if caracter in vocales:\n",
        "        contador += 1\n",
        "print(f\"El número de vocales es: {contador}\")\n"
      ],
      "metadata": {
        "id": "RUkJxRleO1y5"
      },
      "execution_count": null,
      "outputs": []
    },
    {
      "cell_type": "code",
      "source": [
        "cadena_usuario = input(\"Ingrese un texto: \")\n",
        "cadena_modificada = cadena_usuario.lower().replace(\" \", \"\")\n",
        "cadena_invertida = cadena_modificada[::-1]\n",
        "if cadena_modificada == cadena_invertida:\n",
        "    print(\"El texto es un palíndromo.\")\n",
        "else:\n",
        "    print(\"El texto no es un palíndromo.\")\n"
      ],
      "metadata": {
        "id": "URJpZiWS4fYv"
      },
      "execution_count": null,
      "outputs": []
    },
    {
      "cell_type": "code",
      "source": [
        "numero = int(input(\"Ingrese un número: \"))\n",
        "factorial = 1\n",
        "if numero < 0:\n",
        "    print(\"El factorial no está definido para números negativos.\")\n",
        "elif numero == 0:\n",
        "    print(\"El factorial de 0 es 1.\")\n",
        "else:\n",
        "    for i in range(1, numero + 1):\n",
        "        factorial *= i\n",
        "    print(f\"El factorial de {numero} es {factorial}.\")\n"
      ],
      "metadata": {
        "id": "Cq0eAtsX4z5i"
      },
      "execution_count": null,
      "outputs": []
    },
    {
      "cell_type": "code",
      "source": [
        "import random\n",
        "print(\"5 números aleatorios entre 1 y 100:\")\n",
        "for _ in range(5):\n",
        "    numero_aleatorio = random.randint(1, 100)\n",
        "    print(numero_aleatorio)\n"
      ],
      "metadata": {
        "colab": {
          "base_uri": "https://localhost:8080/"
        },
        "id": "a7-TE0CQ5CFn",
        "outputId": "29680862-be4d-4b66-8fd3-ba24987cc360"
      },
      "execution_count": 1,
      "outputs": [
        {
          "output_type": "stream",
          "name": "stdout",
          "text": [
            "5 números aleatorios entre 1 y 100:\n",
            "73\n",
            "6\n",
            "25\n",
            "12\n",
            "4\n"
          ]
        }
      ]
    },
    {
      "cell_type": "code",
      "source": [
        "peso = float(input(\"Ingrese su peso en kilogramos: \"))\n",
        "\n",
        "altura = float(input(\"Ingrece tu altura en metros: \"))\n",
        "\n",
        "imc = peso / (altura ** 2)\n",
        "\n",
        "print(f\"Tu índice de masa corporal (IMC) es: {imc:.2f}\")\n",
        "\n",
        "if imc < 18.5:\n",
        "    print(\"Tienes un peso inferior al normal.\")\n",
        "elif 18.5 <= imc < 24.9:\n",
        "    print(\"Tienes un peso normal.\")\n",
        "elif 25 <= imc < 29.9:\n",
        "    print(\"Tienes sobrepeso.\")\n",
        "else:\n",
        "    print(\"Tienes obesidad.\")\n"
      ],
      "metadata": {
        "id": "dcgjJkkl5Xdx"
      },
      "execution_count": null,
      "outputs": []
    }
  ]
}